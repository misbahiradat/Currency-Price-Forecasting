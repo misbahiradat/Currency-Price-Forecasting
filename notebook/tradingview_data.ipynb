{
 "cells": [
  {
   "cell_type": "markdown",
   "metadata": {},
   "source": [
    "# Author @ Misbah Iradat"
   ]
  },
  {
   "cell_type": "code",
   "execution_count": 1,
   "metadata": {},
   "outputs": [
    {
     "name": "stdout",
     "output_type": "stream",
     "text": [
      "Error: CREATE DATABASE cannot run inside a transaction block\n",
      "\n"
     ]
    }
   ],
   "source": [
    "import psycopg2\n",
    "\n",
    "# Define the database information\n",
    "db_name = \"currencydb\"\n",
    "db_user = \"postgres\"\n",
    "db_password = \"postgres\"\n",
    "db_host = \"localhost\"  # Change this to your database host if needed\n",
    "db_port = \"5432\"       # Change this to your database port if needed\n",
    "\n",
    "try:\n",
    "    # Connect to the PostgreSQL server without specifying a database\n",
    "    connection = psycopg2.connect(\n",
    "        user=db_user,\n",
    "        password=db_password,\n",
    "        host=db_host,\n",
    "        port=db_port\n",
    "    )\n",
    "\n",
    "    # Create a cursor object\n",
    "    cursor = connection.cursor()\n",
    "\n",
    "    # Execute the SQL command to create the database\n",
    "    create_db_command = f\"CREATE DATABASE {db_name};\"\n",
    "    cursor.execute(create_db_command)\n",
    "\n",
    "    # Commit the transaction\n",
    "    connection.commit()\n",
    "\n",
    "    # Close the cursor and the connection\n",
    "    cursor.close()\n",
    "    connection.close()\n",
    "\n",
    "    print(f\"Database '{db_name}' created successfully.\")\n",
    "\n",
    "except psycopg2.Error as e:\n",
    "    print(f\"Error: {e}\")\n"
   ]
  },
  {
   "cell_type": "code",
   "execution_count": null,
   "metadata": {},
   "outputs": [],
   "source": [
    "def create_tables():\n",
    "    \"\"\" create tables in the PostgreSQL database\"\"\"\n",
    "    # Define the table name as a variable\n",
    "    table_name = \"user\"\n",
    "\n",
    "    # Create the SQL statement with the dynamic table name\n",
    "    sql_statement = f\"\"\"\n",
    "    CREATE TABLE {table_name} (\n",
    "        id SERIAL PRIMARY KEY,\n",
    "        datetime DATE NOT NULL,\n",
    "        open DOUBLE PRECISION,\n",
    "        high DOUBLE PRECISION,\n",
    "        low DOUBLE PRECISION,\n",
    "        close DOUBLE PRECISION,\n",
    "        volume DOUBLE PRECISION\n",
    "    );\n",
    "    \"\"\"\n",
    "    conn = None\n",
    "    try:\n",
    "    \n",
    "        # connect to the PostgreSQL server\n",
    "        conn = psycopg2.connect(host=\"localhost\",\n",
    "                                database=\"currencydb\",\n",
    "                                user=\"postgres\",\n",
    "                                password=\"postgres\")\n",
    "        cur = conn.cursor()\n",
    "        # create table one by one\n",
    "        \n",
    "        cur.execute(sql_statement)\n",
    "        # close communication with the PostgreSQL database server\n",
    "        cur.close()\n",
    "        # commit the changes\n",
    "        conn.commit()\n",
    "    except (Exception, psycopg2.DatabaseError) as error:\n",
    "        print(error)\n",
    "    finally:\n",
    "        if conn is not None:\n",
    "            conn.close()\n",
    "\n",
    "\n",
    "if __name__ == '__main__':\n",
    "    create_tables()"
   ]
  }
 ],
 "metadata": {
  "kernelspec": {
   "display_name": "deepL",
   "language": "python",
   "name": "python3"
  },
  "language_info": {
   "codemirror_mode": {
    "name": "ipython",
    "version": 3
   },
   "file_extension": ".py",
   "mimetype": "text/x-python",
   "name": "python",
   "nbconvert_exporter": "python",
   "pygments_lexer": "ipython3",
   "version": "3.9.15"
  },
  "orig_nbformat": 4
 },
 "nbformat": 4,
 "nbformat_minor": 2
}
